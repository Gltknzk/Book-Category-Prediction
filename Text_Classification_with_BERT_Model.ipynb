{
  "cells": [
    {
      "cell_type": "markdown",
      "metadata": {
        "id": "Z3hO1LT4m8xM"
      },
      "source": [
        "# BERT Text Classification Model"
      ]
    },
    {
      "cell_type": "code",
      "execution_count": null,
      "metadata": {
        "colab": {
          "base_uri": "https://localhost:8080/"
        },
        "id": "LZqjyZ92m1BZ",
        "outputId": "f7ce6f93-5222-4e0e-a6c9-c290c64b9b52"
      },
      "outputs": [
        {
          "name": "stdout",
          "output_type": "stream",
          "text": [
            "Drive already mounted at /content/drive; to attempt to forcibly remount, call drive.mount(\"/content/drive\", force_remount=True).\n"
          ]
        }
      ],
      "source": [
        "#from google.colab import drive\n",
        "#drive.mount('/content/drive')"
      ]
    },
    {
      "cell_type": "code",
      "execution_count": 10,
      "metadata": {
        "id": "5bF40_9GyMc3"
      },
      "outputs": [],
      "source": [
        "import os"
      ]
    },
    {
      "cell_type": "code",
      "execution_count": 1,
      "metadata": {
        "colab": {
          "base_uri": "https://localhost:8080/"
        },
        "id": "uuM1yGIv3C7Q",
        "outputId": "659d3a86-a359-4fbc-c084-23b96e77a6df"
      },
      "outputs": [
        {
          "name": "stdout",
          "output_type": "stream",
          "text": [
            "All devices:  [LogicalDevice(name='/job:worker/replica:0/task:0/device:TPU:0', device_type='TPU'), LogicalDevice(name='/job:worker/replica:0/task:0/device:TPU:1', device_type='TPU'), LogicalDevice(name='/job:worker/replica:0/task:0/device:TPU:2', device_type='TPU'), LogicalDevice(name='/job:worker/replica:0/task:0/device:TPU:3', device_type='TPU'), LogicalDevice(name='/job:worker/replica:0/task:0/device:TPU:4', device_type='TPU'), LogicalDevice(name='/job:worker/replica:0/task:0/device:TPU:5', device_type='TPU'), LogicalDevice(name='/job:worker/replica:0/task:0/device:TPU:6', device_type='TPU'), LogicalDevice(name='/job:worker/replica:0/task:0/device:TPU:7', device_type='TPU')]\n"
          ]
        }
      ],
      "source": [
        "import tensorflow as tf\n",
        "import os\n",
        "\n",
        "# Note that the `tpu` argument is for Colab-only\n",
        "resolver = tf.distribute.cluster_resolver.TPUClusterResolver(tpu='grpc://' + os.environ['COLAB_TPU_ADDR'])\n",
        "\n",
        "tf.config.experimental_connect_to_cluster(resolver)\n",
        "tf.tpu.experimental.initialize_tpu_system(resolver)\n",
        "print(\"All devices: \", tf.config.list_logical_devices('TPU'))"
      ]
    },
    {
      "cell_type": "code",
      "execution_count": 1,
      "metadata": {
        "colab": {
          "base_uri": "https://localhost:8080/"
        },
        "id": "_skoAhjLmF0E",
        "outputId": "ea25d326-9135-4efb-fc3d-363c4f32d4a6"
      },
      "outputs": [
        {
          "name": "stdout",
          "output_type": "stream",
          "text": [
            "Looking in indexes: https://pypi.org/simple, https://us-python.pkg.dev/colab-wheels/public/simple/\n",
            "Collecting transformers\n",
            "  Downloading transformers-4.25.1-py3-none-any.whl (5.8 MB)\n",
            "\u001b[K     |████████████████████████████████| 5.8 MB 4.8 MB/s \n",
            "\u001b[?25hRequirement already satisfied: tqdm>=4.27 in /usr/local/lib/python3.8/dist-packages (from transformers) (4.64.1)\n",
            "Requirement already satisfied: packaging>=20.0 in /usr/local/lib/python3.8/dist-packages (from transformers) (21.3)\n",
            "Collecting tokenizers!=0.11.3,<0.14,>=0.11.1\n",
            "  Downloading tokenizers-0.13.2-cp38-cp38-manylinux_2_17_x86_64.manylinux2014_x86_64.whl (7.6 MB)\n",
            "\u001b[K     |████████████████████████████████| 7.6 MB 19.0 MB/s \n",
            "\u001b[?25hRequirement already satisfied: pyyaml>=5.1 in /usr/local/lib/python3.8/dist-packages (from transformers) (6.0)\n",
            "Collecting huggingface-hub<1.0,>=0.10.0\n",
            "  Downloading huggingface_hub-0.11.1-py3-none-any.whl (182 kB)\n",
            "\u001b[K     |████████████████████████████████| 182 kB 20.8 MB/s \n",
            "\u001b[?25hRequirement already satisfied: requests in /usr/local/lib/python3.8/dist-packages (from transformers) (2.23.0)\n",
            "Requirement already satisfied: filelock in /usr/local/lib/python3.8/dist-packages (from transformers) (3.8.0)\n",
            "Requirement already satisfied: numpy>=1.17 in /usr/local/lib/python3.8/dist-packages (from transformers) (1.21.6)\n",
            "Requirement already satisfied: regex!=2019.12.17 in /usr/local/lib/python3.8/dist-packages (from transformers) (2022.6.2)\n",
            "Requirement already satisfied: typing-extensions>=3.7.4.3 in /usr/local/lib/python3.8/dist-packages (from huggingface-hub<1.0,>=0.10.0->transformers) (4.4.0)\n",
            "Requirement already satisfied: pyparsing!=3.0.5,>=2.0.2 in /usr/local/lib/python3.8/dist-packages (from packaging>=20.0->transformers) (3.0.9)\n",
            "Requirement already satisfied: certifi>=2017.4.17 in /usr/local/lib/python3.8/dist-packages (from requests->transformers) (2022.9.24)\n",
            "Requirement already satisfied: chardet<4,>=3.0.2 in /usr/local/lib/python3.8/dist-packages (from requests->transformers) (3.0.4)\n",
            "Requirement already satisfied: urllib3!=1.25.0,!=1.25.1,<1.26,>=1.21.1 in /usr/local/lib/python3.8/dist-packages (from requests->transformers) (1.24.3)\n",
            "Requirement already satisfied: idna<3,>=2.5 in /usr/local/lib/python3.8/dist-packages (from requests->transformers) (2.10)\n",
            "Installing collected packages: tokenizers, huggingface-hub, transformers\n",
            "Successfully installed huggingface-hub-0.11.1 tokenizers-0.13.2 transformers-4.25.1\n"
          ]
        }
      ],
      "source": [
        "!pip install transformers"
      ]
    },
    {
      "cell_type": "markdown",
      "metadata": {
        "id": "FDDYcyvBeFmA"
      },
      "source": [
        "## Import Library"
      ]
    },
    {
      "cell_type": "code",
      "execution_count": 2,
      "metadata": {
        "id": "UVecSUbKq_si"
      },
      "outputs": [],
      "source": [
        "import numpy as np\n",
        "import pandas as pd\n",
        "import warnings\n",
        "warnings.filterwarnings('ignore')"
      ]
    },
    {
      "cell_type": "markdown",
      "metadata": {
        "id": "BCdooJ5sCvvM"
      },
      "source": [
        "#Loading the Dataset\n",
        "#Pre-processing the raw data\n",
        "#Getting BERT Pre-trained model and its tokenizer\n",
        "#Training and evaluation\n",
        "#Prediction Pipeline"
      ]
    },
    {
      "cell_type": "code",
      "execution_count": 6,
      "metadata": {
        "id": "Vhy2dT_aq_f4"
      },
      "outputs": [],
      "source": [
        "df = pd.read_excel(\"/content/Core Test Data.xlsx\")"
      ]
    },
    {
      "cell_type": "code",
      "execution_count": 7,
      "metadata": {
        "colab": {
          "base_uri": "https://localhost:8080/",
          "height": 716
        },
        "id": "f3qQ6RJ0q_R4",
        "outputId": "510ac4d7-c449-4f37-ebce-d0d4deb4358e"
      },
      "outputs": [
        {
          "data": {
            "text/html": [
              "\n",
              "  <div id=\"df-7f76c453-a864-4e32-a4a9-606a12b46d2c\">\n",
              "    <div class=\"colab-df-container\">\n",
              "      <div>\n",
              "<style scoped>\n",
              "    .dataframe tbody tr th:only-of-type {\n",
              "        vertical-align: middle;\n",
              "    }\n",
              "\n",
              "    .dataframe tbody tr th {\n",
              "        vertical-align: top;\n",
              "    }\n",
              "\n",
              "    .dataframe thead th {\n",
              "        text-align: right;\n",
              "    }\n",
              "</style>\n",
              "<table border=\"1\" class=\"dataframe\">\n",
              "  <thead>\n",
              "    <tr style=\"text-align: right;\">\n",
              "      <th></th>\n",
              "      <th>DocumentId</th>\n",
              "      <th>EventInstanceId</th>\n",
              "      <th>#</th>\n",
              "      <th>News Date</th>\n",
              "      <th>Source</th>\n",
              "      <th>Country</th>\n",
              "      <th>Location (LatLng)</th>\n",
              "      <th>Locations</th>\n",
              "      <th>Headline</th>\n",
              "      <th>Abstract</th>\n",
              "      <th>...</th>\n",
              "      <th>Start Date</th>\n",
              "      <th>End Date</th>\n",
              "      <th>Actor List</th>\n",
              "      <th>Location Info</th>\n",
              "      <th>Level of Event</th>\n",
              "      <th>Type</th>\n",
              "      <th>Topic</th>\n",
              "      <th>Aim</th>\n",
              "      <th>Unnamed: 25</th>\n",
              "      <th>Unnamed: 26</th>\n",
              "    </tr>\n",
              "  </thead>\n",
              "  <tbody>\n",
              "    <tr>\n",
              "      <th>0</th>\n",
              "      <td>AgreementsDocId1</td>\n",
              "      <td>AgreementsEventInstanceId1</td>\n",
              "      <td>1.0</td>\n",
              "      <td>2020-11-30 00:00:00</td>\n",
              "      <td>The Libya Observer</td>\n",
              "      <td>libya</td>\n",
              "      <td>NaN</td>\n",
              "      <td>['Italy', 'Libya', 'Tripoli']</td>\n",
              "      <td>Al-Sarraj reviews with Eni officials support f...</td>\n",
              "      <td>The Head of the Libyan Presidential Council Fa...</td>\n",
              "      <td>...</td>\n",
              "      <td>2020-11-30 00:00:00</td>\n",
              "      <td>NaN</td>\n",
              "      <td>Al-Sarraj, Eni officials</td>\n",
              "      <td>Tripoli, Libya</td>\n",
              "      <td>Inter Governmental</td>\n",
              "      <td>Meeting</td>\n",
              "      <td>possible investments of the Italian company in...</td>\n",
              "      <td>NaN</td>\n",
              "      <td>NaN</td>\n",
              "      <td>NaN</td>\n",
              "    </tr>\n",
              "    <tr>\n",
              "      <th>1</th>\n",
              "      <td>AgreementsDocId2</td>\n",
              "      <td>AgreementsEventInstanceId2</td>\n",
              "      <td>2.0</td>\n",
              "      <td>2020-12-01 00:00:00</td>\n",
              "      <td>The Libya Observer</td>\n",
              "      <td>libya</td>\n",
              "      <td>(32.806069013310236, 13.201975860087888)</td>\n",
              "      <td>['Italy', 'Libya']</td>\n",
              "      <td>NOC, Eni review resuming stalled projects</td>\n",
              "      <td>Chairman of the National Oil Corporation (NOC)...</td>\n",
              "      <td>...</td>\n",
              "      <td>2020-12-01 00:00:00</td>\n",
              "      <td>NaN</td>\n",
              "      <td>National Oil Corporation (NOC), Eni company</td>\n",
              "      <td>Tripoli, Libya</td>\n",
              "      <td>Inter Governmental</td>\n",
              "      <td>Meeting</td>\n",
              "      <td>the resumption of some significant projects th...</td>\n",
              "      <td>NaN</td>\n",
              "      <td>NaN</td>\n",
              "      <td>NaN</td>\n",
              "    </tr>\n",
              "    <tr>\n",
              "      <th>2</th>\n",
              "      <td>AgreementsDocId3</td>\n",
              "      <td>AgreementsEventInstanceId3</td>\n",
              "      <td>3.0</td>\n",
              "      <td>2020-11-19 00:00:00</td>\n",
              "      <td>Libya Herald</td>\n",
              "      <td>libya</td>\n",
              "      <td>NaN</td>\n",
              "      <td>['Libya', 'Tripoli', 'Sirte']</td>\n",
              "      <td>Halliburton discusses increased cooperation wi...</td>\n",
              "      <td>Halliburton Regional Director, Colby Fuser, me...</td>\n",
              "      <td>...</td>\n",
              "      <td>2020-11-18 00:00:00</td>\n",
              "      <td>NaN</td>\n",
              "      <td>National Oil Corporation (NOC), Colby Fuser</td>\n",
              "      <td>Tripoli, Libya</td>\n",
              "      <td>Inter Governmental</td>\n",
              "      <td>Meeting</td>\n",
              "      <td>development of joint cooperation between the t...</td>\n",
              "      <td>NaN</td>\n",
              "      <td>NaN</td>\n",
              "      <td>NaN</td>\n",
              "    </tr>\n",
              "    <tr>\n",
              "      <th>3</th>\n",
              "      <td>AgreementsDocId4</td>\n",
              "      <td>AgreementsEventInstanceId4</td>\n",
              "      <td>4.0</td>\n",
              "      <td>2020-11-19 00:00:00</td>\n",
              "      <td>Bloomberg Business</td>\n",
              "      <td>libya</td>\n",
              "      <td>NaN</td>\n",
              "      <td>['Libya', 'Sweden', 'France', 'Brega']</td>\n",
              "      <td>Libya Says Total Mulls More Investment in Nati...</td>\n",
              "      <td>Total discussed helping boost flows to highest...</td>\n",
              "      <td>...</td>\n",
              "      <td>2020-11-18 00:00:00</td>\n",
              "      <td>NaN</td>\n",
              "      <td>National Oil Corporation (NOC), Total, France</td>\n",
              "      <td>Virtual</td>\n",
              "      <td>Inter Governmental</td>\n",
              "      <td>Meeting</td>\n",
              "      <td>efforts to increase Libyan production capacity...</td>\n",
              "      <td>NaN</td>\n",
              "      <td>NaN</td>\n",
              "      <td>NaN</td>\n",
              "    </tr>\n",
              "    <tr>\n",
              "      <th>4</th>\n",
              "      <td>AgreementsDocId5</td>\n",
              "      <td>AgreementsEventInstanceId5</td>\n",
              "      <td>5.0</td>\n",
              "      <td>2020-11-18 00:00:00</td>\n",
              "      <td>Libya Herald</td>\n",
              "      <td>libya</td>\n",
              "      <td>NaN</td>\n",
              "      <td>[\"Ra's Lanuf\", 'Tripoli', 'Benghazi', 'Libya']</td>\n",
              "      <td>Zallaf and NOC discuss new South Refinery</td>\n",
              "      <td>A wide ranging face-to-face technical meeting ...</td>\n",
              "      <td>...</td>\n",
              "      <td>2020-11-17 00:00:00</td>\n",
              "      <td>NaN</td>\n",
              "      <td>National Oil Corporation (NOC), Zallaf Libya Oil</td>\n",
              "      <td>Tripoli, Libya</td>\n",
              "      <td>Intra Governmental</td>\n",
              "      <td>Meeting</td>\n",
              "      <td>the technical and financial details of the pro...</td>\n",
              "      <td>NaN</td>\n",
              "      <td>NaN</td>\n",
              "      <td>NaN</td>\n",
              "    </tr>\n",
              "  </tbody>\n",
              "</table>\n",
              "<p>5 rows × 27 columns</p>\n",
              "</div>\n",
              "      <button class=\"colab-df-convert\" onclick=\"convertToInteractive('df-7f76c453-a864-4e32-a4a9-606a12b46d2c')\"\n",
              "              title=\"Convert this dataframe to an interactive table.\"\n",
              "              style=\"display:none;\">\n",
              "        \n",
              "  <svg xmlns=\"http://www.w3.org/2000/svg\" height=\"24px\"viewBox=\"0 0 24 24\"\n",
              "       width=\"24px\">\n",
              "    <path d=\"M0 0h24v24H0V0z\" fill=\"none\"/>\n",
              "    <path d=\"M18.56 5.44l.94 2.06.94-2.06 2.06-.94-2.06-.94-.94-2.06-.94 2.06-2.06.94zm-11 1L8.5 8.5l.94-2.06 2.06-.94-2.06-.94L8.5 2.5l-.94 2.06-2.06.94zm10 10l.94 2.06.94-2.06 2.06-.94-2.06-.94-.94-2.06-.94 2.06-2.06.94z\"/><path d=\"M17.41 7.96l-1.37-1.37c-.4-.4-.92-.59-1.43-.59-.52 0-1.04.2-1.43.59L10.3 9.45l-7.72 7.72c-.78.78-.78 2.05 0 2.83L4 21.41c.39.39.9.59 1.41.59.51 0 1.02-.2 1.41-.59l7.78-7.78 2.81-2.81c.8-.78.8-2.07 0-2.86zM5.41 20L4 18.59l7.72-7.72 1.47 1.35L5.41 20z\"/>\n",
              "  </svg>\n",
              "      </button>\n",
              "      \n",
              "  <style>\n",
              "    .colab-df-container {\n",
              "      display:flex;\n",
              "      flex-wrap:wrap;\n",
              "      gap: 12px;\n",
              "    }\n",
              "\n",
              "    .colab-df-convert {\n",
              "      background-color: #E8F0FE;\n",
              "      border: none;\n",
              "      border-radius: 50%;\n",
              "      cursor: pointer;\n",
              "      display: none;\n",
              "      fill: #1967D2;\n",
              "      height: 32px;\n",
              "      padding: 0 0 0 0;\n",
              "      width: 32px;\n",
              "    }\n",
              "\n",
              "    .colab-df-convert:hover {\n",
              "      background-color: #E2EBFA;\n",
              "      box-shadow: 0px 1px 2px rgba(60, 64, 67, 0.3), 0px 1px 3px 1px rgba(60, 64, 67, 0.15);\n",
              "      fill: #174EA6;\n",
              "    }\n",
              "\n",
              "    [theme=dark] .colab-df-convert {\n",
              "      background-color: #3B4455;\n",
              "      fill: #D2E3FC;\n",
              "    }\n",
              "\n",
              "    [theme=dark] .colab-df-convert:hover {\n",
              "      background-color: #434B5C;\n",
              "      box-shadow: 0px 1px 3px 1px rgba(0, 0, 0, 0.15);\n",
              "      filter: drop-shadow(0px 1px 2px rgba(0, 0, 0, 0.3));\n",
              "      fill: #FFFFFF;\n",
              "    }\n",
              "  </style>\n",
              "\n",
              "      <script>\n",
              "        const buttonEl =\n",
              "          document.querySelector('#df-7f76c453-a864-4e32-a4a9-606a12b46d2c button.colab-df-convert');\n",
              "        buttonEl.style.display =\n",
              "          google.colab.kernel.accessAllowed ? 'block' : 'none';\n",
              "\n",
              "        async function convertToInteractive(key) {\n",
              "          const element = document.querySelector('#df-7f76c453-a864-4e32-a4a9-606a12b46d2c');\n",
              "          const dataTable =\n",
              "            await google.colab.kernel.invokeFunction('convertToInteractive',\n",
              "                                                     [key], {});\n",
              "          if (!dataTable) return;\n",
              "\n",
              "          const docLinkHtml = 'Like what you see? Visit the ' +\n",
              "            '<a target=\"_blank\" href=https://colab.research.google.com/notebooks/data_table.ipynb>data table notebook</a>'\n",
              "            + ' to learn more about interactive tables.';\n",
              "          element.innerHTML = '';\n",
              "          dataTable['output_type'] = 'display_data';\n",
              "          await google.colab.output.renderOutput(dataTable, element);\n",
              "          const docLink = document.createElement('div');\n",
              "          docLink.innerHTML = docLinkHtml;\n",
              "          element.appendChild(docLink);\n",
              "        }\n",
              "      </script>\n",
              "    </div>\n",
              "  </div>\n",
              "  "
            ],
            "text/plain": [
              "         DocumentId             EventInstanceId    #            News Date  \\\n",
              "0  AgreementsDocId1  AgreementsEventInstanceId1  1.0  2020-11-30 00:00:00   \n",
              "1  AgreementsDocId2  AgreementsEventInstanceId2  2.0  2020-12-01 00:00:00   \n",
              "2  AgreementsDocId3  AgreementsEventInstanceId3  3.0  2020-11-19 00:00:00   \n",
              "3  AgreementsDocId4  AgreementsEventInstanceId4  4.0  2020-11-19 00:00:00   \n",
              "4  AgreementsDocId5  AgreementsEventInstanceId5  5.0  2020-11-18 00:00:00   \n",
              "\n",
              "               Source Country                         Location (LatLng)  \\\n",
              "0  The Libya Observer   libya                                       NaN   \n",
              "1  The Libya Observer   libya  (32.806069013310236, 13.201975860087888)   \n",
              "2        Libya Herald   libya                                       NaN   \n",
              "3  Bloomberg Business   libya                                       NaN   \n",
              "4        Libya Herald   libya                                       NaN   \n",
              "\n",
              "                                        Locations  \\\n",
              "0                   ['Italy', 'Libya', 'Tripoli']   \n",
              "1                              ['Italy', 'Libya']   \n",
              "2                   ['Libya', 'Tripoli', 'Sirte']   \n",
              "3          ['Libya', 'Sweden', 'France', 'Brega']   \n",
              "4  [\"Ra's Lanuf\", 'Tripoli', 'Benghazi', 'Libya']   \n",
              "\n",
              "                                            Headline  \\\n",
              "0  Al-Sarraj reviews with Eni officials support f...   \n",
              "1          NOC, Eni review resuming stalled projects   \n",
              "2  Halliburton discusses increased cooperation wi...   \n",
              "3  Libya Says Total Mulls More Investment in Nati...   \n",
              "4          Zallaf and NOC discuss new South Refinery   \n",
              "\n",
              "                                            Abstract  ...  \\\n",
              "0  The Head of the Libyan Presidential Council Fa...  ...   \n",
              "1  Chairman of the National Oil Corporation (NOC)...  ...   \n",
              "2  Halliburton Regional Director, Colby Fuser, me...  ...   \n",
              "3  Total discussed helping boost flows to highest...  ...   \n",
              "4  A wide ranging face-to-face technical meeting ...  ...   \n",
              "\n",
              "            Start Date End Date  \\\n",
              "0  2020-11-30 00:00:00      NaN   \n",
              "1  2020-12-01 00:00:00      NaN   \n",
              "2  2020-11-18 00:00:00      NaN   \n",
              "3  2020-11-18 00:00:00      NaN   \n",
              "4  2020-11-17 00:00:00      NaN   \n",
              "\n",
              "                                         Actor List   Location Info  \\\n",
              "0                          Al-Sarraj, Eni officials  Tripoli, Libya   \n",
              "1       National Oil Corporation (NOC), Eni company  Tripoli, Libya   \n",
              "2       National Oil Corporation (NOC), Colby Fuser  Tripoli, Libya   \n",
              "3     National Oil Corporation (NOC), Total, France         Virtual   \n",
              "4  National Oil Corporation (NOC), Zallaf Libya Oil  Tripoli, Libya   \n",
              "\n",
              "       Level of Event     Type  \\\n",
              "0  Inter Governmental  Meeting   \n",
              "1  Inter Governmental  Meeting   \n",
              "2  Inter Governmental  Meeting   \n",
              "3  Inter Governmental  Meeting   \n",
              "4  Intra Governmental  Meeting   \n",
              "\n",
              "                                               Topic  Aim Unnamed: 25  \\\n",
              "0  possible investments of the Italian company in...  NaN         NaN   \n",
              "1  the resumption of some significant projects th...  NaN         NaN   \n",
              "2  development of joint cooperation between the t...  NaN         NaN   \n",
              "3  efforts to increase Libyan production capacity...  NaN         NaN   \n",
              "4  the technical and financial details of the pro...  NaN         NaN   \n",
              "\n",
              "  Unnamed: 26  \n",
              "0         NaN  \n",
              "1         NaN  \n",
              "2         NaN  \n",
              "3         NaN  \n",
              "4         NaN  \n",
              "\n",
              "[5 rows x 27 columns]"
            ]
          },
          "execution_count": 7,
          "metadata": {},
          "output_type": "execute_result"
        }
      ],
      "source": [
        "df.head()"
      ]
    },
    {
      "cell_type": "code",
      "execution_count": 8,
      "metadata": {
        "id": "jgBD1ks5H7lr"
      },
      "outputs": [],
      "source": [
        "df2 = df[df[\"Event Category\"] == \"politicalEvents\"][[\"Headline\",\"Abstract\",\"First Part\",\"Body\",\"Event Category\",\"1st Level Sub Category\",\"2nd Level Sub Category\",\"3rd Level Sub Category\"]]"
      ]
    },
    {
      "cell_type": "code",
      "execution_count": 9,
      "metadata": {
        "id": "JqpA8uNDH9RN"
      },
      "outputs": [],
      "source": [
        "df2[\"Input\"]=df2[\"Headline\"].map(str) +\" \"+ df2[\"Abstract\"].map(str) +\" \"+ df2[\"First Part\"].map(str) +\" \" + df2[\"Body\"].map(str)"
      ]
    },
    {
      "cell_type": "code",
      "execution_count": 10,
      "metadata": {
        "id": "gUuUdSEbICtX"
      },
      "outputs": [],
      "source": [
        "df2[\"Input\"].fillna('', inplace=True)"
      ]
    },
    {
      "cell_type": "code",
      "execution_count": 11,
      "metadata": {
        "colab": {
          "base_uri": "https://localhost:8080/"
        },
        "id": "QxMDXBXmIGSB",
        "outputId": "f3fab7a8-8706-44a5-e120-c09a38df05ec"
      },
      "outputs": [
        {
          "data": {
            "text/plain": [
              "election            13\n",
              "governmentChange     8\n",
              "badGovernance        7\n",
              "goodGovernance       5\n",
              "Name: 1st Level Sub Category, dtype: int64"
            ]
          },
          "execution_count": 11,
          "metadata": {},
          "output_type": "execute_result"
        }
      ],
      "source": [
        "df2[\"1st Level Sub Category\"].value_counts(dropna=False)"
      ]
    },
    {
      "cell_type": "code",
      "execution_count": 33,
      "metadata": {
        "id": "bhpYzdG_231H"
      },
      "outputs": [],
      "source": [
        "df2=df2.sample(frac=1)"
      ]
    },
    {
      "cell_type": "code",
      "execution_count": 34,
      "metadata": {
        "colab": {
          "base_uri": "https://localhost:8080/"
        },
        "id": "0AWaoQpTmulS",
        "outputId": "241b7b4f-76ab-4b25-f758-6caefeed8e6d"
      },
      "outputs": [
        {
          "data": {
            "text/plain": [
              "375       badGovernance\n",
              "386    governmentChange\n",
              "380      goodGovernance\n",
              "391    governmentChange\n",
              "379      goodGovernance\n",
              "384            election\n",
              "372       badGovernance\n",
              "388    governmentChange\n",
              "367            election\n",
              "392    governmentChange\n",
              "362            election\n",
              "373       badGovernance\n",
              "361            election\n",
              "371       badGovernance\n",
              "389    governmentChange\n",
              "383            election\n",
              "378            election\n",
              "370       badGovernance\n",
              "366            election\n",
              "382      goodGovernance\n",
              "387    governmentChange\n",
              "364            election\n",
              "377      goodGovernance\n",
              "374       badGovernance\n",
              "360            election\n",
              "363            election\n",
              "381      goodGovernance\n",
              "365            election\n",
              "385    governmentChange\n",
              "368            election\n",
              "390    governmentChange\n",
              "376            election\n",
              "369       badGovernance\n",
              "Name: 1st Level Sub Category, dtype: object"
            ]
          },
          "execution_count": 34,
          "metadata": {},
          "output_type": "execute_result"
        }
      ],
      "source": [
        "df2[\"1st Level Sub Category\"]"
      ]
    },
    {
      "cell_type": "code",
      "execution_count": 35,
      "metadata": {
        "id": "FtymyKMDeE6g"
      },
      "outputs": [],
      "source": [
        "df2_train=df2.iloc[0:22]"
      ]
    },
    {
      "cell_type": "code",
      "execution_count": 36,
      "metadata": {
        "id": "LjwNyAZvhAC1"
      },
      "outputs": [],
      "source": [
        "df2_test=df2[22:34]"
      ]
    },
    {
      "cell_type": "markdown",
      "metadata": {
        "id": "ctxjVMwYDHsR"
      },
      "source": [
        "#Converting our 1st Level Sub Category column into Categorical data\n",
        "\n"
      ]
    },
    {
      "cell_type": "code",
      "execution_count": 37,
      "metadata": {
        "id": "WbCzj4QscAf4"
      },
      "outputs": [],
      "source": [
        "encoded_dict = {'election':0,'badGovernance':1, 'goodGovernance':2, 'governmentChange':3}\n",
        "df2_train['1st Level Sub Category']= df2_train[\"1st Level Sub Category\"].map(encoded_dict)\n",
        "df2_test['1st Level Sub Category'] = df2_test['1st Level Sub Category'].map(encoded_dict)"
      ]
    },
    {
      "cell_type": "code",
      "execution_count": 38,
      "metadata": {
        "colab": {
          "base_uri": "https://localhost:8080/",
          "height": 785
        },
        "id": "AOMsEopKoOAX",
        "outputId": "9ce7ba82-c33c-4783-db68-ac42f77f9ce2"
      },
      "outputs": [
        {
          "data": {
            "text/html": [
              "\n",
              "  <div id=\"df-1d27c155-decc-4b98-b34d-a343331cae37\">\n",
              "    <div class=\"colab-df-container\">\n",
              "      <div>\n",
              "<style scoped>\n",
              "    .dataframe tbody tr th:only-of-type {\n",
              "        vertical-align: middle;\n",
              "    }\n",
              "\n",
              "    .dataframe tbody tr th {\n",
              "        vertical-align: top;\n",
              "    }\n",
              "\n",
              "    .dataframe thead th {\n",
              "        text-align: right;\n",
              "    }\n",
              "</style>\n",
              "<table border=\"1\" class=\"dataframe\">\n",
              "  <thead>\n",
              "    <tr style=\"text-align: right;\">\n",
              "      <th></th>\n",
              "      <th>Headline</th>\n",
              "      <th>Abstract</th>\n",
              "      <th>First Part</th>\n",
              "      <th>Body</th>\n",
              "      <th>Event Category</th>\n",
              "      <th>1st Level Sub Category</th>\n",
              "      <th>2nd Level Sub Category</th>\n",
              "      <th>3rd Level Sub Category</th>\n",
              "      <th>Input</th>\n",
              "    </tr>\n",
              "  </thead>\n",
              "  <tbody>\n",
              "    <tr>\n",
              "      <th>377</th>\n",
              "      <td>Supporting Democratic Transition through Fair ...</td>\n",
              "      <td>Inclusive elections are one of the most basic ...</td>\n",
              "      <td>HNEC, in partnership with the United Nations S...</td>\n",
              "      <td>NaN</td>\n",
              "      <td>politicalEvents</td>\n",
              "      <td>2</td>\n",
              "      <td>NaN</td>\n",
              "      <td>NaN</td>\n",
              "      <td>Supporting Democratic Transition through Fair ...</td>\n",
              "    </tr>\n",
              "    <tr>\n",
              "      <th>374</th>\n",
              "      <td>Human Rights Watch: Libya 'incapable' of holdi...</td>\n",
              "      <td>Libya is not ready to hold free and fair elect...</td>\n",
              "      <td>The country's rival authorities are planning t...</td>\n",
              "      <td>NaN</td>\n",
              "      <td>politicalEvents</td>\n",
              "      <td>1</td>\n",
              "      <td>NaN</td>\n",
              "      <td>NaN</td>\n",
              "      <td>Human Rights Watch: Libya 'incapable' of holdi...</td>\n",
              "    </tr>\n",
              "    <tr>\n",
              "      <th>360</th>\n",
              "      <td>Former TV repairman Naker announces his candid...</td>\n",
              "      <td>The Leader of the 'Summit Party', Abdullah Nak...</td>\n",
              "      <td>Regarding methods of communication with his Su...</td>\n",
              "      <td>NaN</td>\n",
              "      <td>politicalEvents</td>\n",
              "      <td>0</td>\n",
              "      <td>NaN</td>\n",
              "      <td>NaN</td>\n",
              "      <td>Former TV repairman Naker announces his candid...</td>\n",
              "    </tr>\n",
              "    <tr>\n",
              "      <th>363</th>\n",
              "      <td>Libyans to hold national elections in December...</td>\n",
              "      <td>bodies and groups from across Libya's politica...</td>\n",
              "      <td>\"It's a very important date for Libyans,\" she ...</td>\n",
              "      <td>The announcement marked the first concrete dec...</td>\n",
              "      <td>politicalEvents</td>\n",
              "      <td>0</td>\n",
              "      <td>NaN</td>\n",
              "      <td>NaN</td>\n",
              "      <td>Libyans to hold national elections in December...</td>\n",
              "    </tr>\n",
              "    <tr>\n",
              "      <th>381</th>\n",
              "      <td>Post-war reconstruction plans for Libya?</td>\n",
              "      <td>An assessment trip is planned within two weeks...</td>\n",
              "      <td>\"Separately, a meeting between Libyan business...</td>\n",
              "      <td>NaN</td>\n",
              "      <td>politicalEvents</td>\n",
              "      <td>2</td>\n",
              "      <td>NaN</td>\n",
              "      <td>NaN</td>\n",
              "      <td>Post-war reconstruction plans for Libya? An as...</td>\n",
              "    </tr>\n",
              "    <tr>\n",
              "      <th>365</th>\n",
              "      <td>Libyans agree preliminary plan for elections: ...</td>\n",
              "      <td>Libyans agreed in UN-led talks on Wednesday a ...</td>\n",
              "      <td>The talks in Tunisia aim to create a framework...</td>\n",
              "      <td>The UN selected the 75 invitees to the politic...</td>\n",
              "      <td>politicalEvents</td>\n",
              "      <td>0</td>\n",
              "      <td>NaN</td>\n",
              "      <td>NaN</td>\n",
              "      <td>Libyans agree preliminary plan for elections: ...</td>\n",
              "    </tr>\n",
              "    <tr>\n",
              "      <th>385</th>\n",
              "      <td>UN-led talks elect Libyan transitional governm...</td>\n",
              "      <td>The EU hailed a ‘milestone’ as Libya embarked ...</td>\n",
              "      <td>In a potential turning point accord widely wel...</td>\n",
              "      <td>NaN</td>\n",
              "      <td>politicalEvents</td>\n",
              "      <td>3</td>\n",
              "      <td>NaN</td>\n",
              "      <td>NaN</td>\n",
              "      <td>UN-led talks elect Libyan transitional governm...</td>\n",
              "    </tr>\n",
              "    <tr>\n",
              "      <th>368</th>\n",
              "      <td>Moin Kikhia Announces Candidacy for Libya’s Un...</td>\n",
              "      <td>Moin Kikhia, the Founder of the Libyan Democra...</td>\n",
              "      <td>“I have submitted my candidacy for the role of...</td>\n",
              "      <td>NaN</td>\n",
              "      <td>politicalEvents</td>\n",
              "      <td>0</td>\n",
              "      <td>NaN</td>\n",
              "      <td>NaN</td>\n",
              "      <td>Moin Kikhia Announces Candidacy for Libya’s Un...</td>\n",
              "    </tr>\n",
              "    <tr>\n",
              "      <th>390</th>\n",
              "      <td>Libya Security Chief Suspended in Escalating P...</td>\n",
              "      <td>Libya’s presidential council suspended its int...</td>\n",
              "      <td>The internationally-recognized government said...</td>\n",
              "      <td>NaN</td>\n",
              "      <td>politicalEvents</td>\n",
              "      <td>3</td>\n",
              "      <td>NaN</td>\n",
              "      <td>NaN</td>\n",
              "      <td>Libya Security Chief Suspended in Escalating P...</td>\n",
              "    </tr>\n",
              "    <tr>\n",
              "      <th>376</th>\n",
              "      <td>Mayors call for elections by February 2021, ex...</td>\n",
              "      <td>Twenty-nine elected mayors from cities and reg...</td>\n",
              "      <td>They also accused the current political elite ...</td>\n",
              "      <td>NaN</td>\n",
              "      <td>politicalEvents</td>\n",
              "      <td>0</td>\n",
              "      <td>NaN</td>\n",
              "      <td>NaN</td>\n",
              "      <td>Mayors call for elections by February 2021, ex...</td>\n",
              "    </tr>\n",
              "    <tr>\n",
              "      <th>369</th>\n",
              "      <td>Libyan government exposes Haftar's financial c...</td>\n",
              "      <td>Documents show illegal seizure of state land a...</td>\n",
              "      <td>The Libyan government on Monday published two ...</td>\n",
              "      <td>NaN</td>\n",
              "      <td>politicalEvents</td>\n",
              "      <td>1</td>\n",
              "      <td>NaN</td>\n",
              "      <td>NaN</td>\n",
              "      <td>Libyan government exposes Haftar's financial c...</td>\n",
              "    </tr>\n",
              "  </tbody>\n",
              "</table>\n",
              "</div>\n",
              "      <button class=\"colab-df-convert\" onclick=\"convertToInteractive('df-1d27c155-decc-4b98-b34d-a343331cae37')\"\n",
              "              title=\"Convert this dataframe to an interactive table.\"\n",
              "              style=\"display:none;\">\n",
              "        \n",
              "  <svg xmlns=\"http://www.w3.org/2000/svg\" height=\"24px\"viewBox=\"0 0 24 24\"\n",
              "       width=\"24px\">\n",
              "    <path d=\"M0 0h24v24H0V0z\" fill=\"none\"/>\n",
              "    <path d=\"M18.56 5.44l.94 2.06.94-2.06 2.06-.94-2.06-.94-.94-2.06-.94 2.06-2.06.94zm-11 1L8.5 8.5l.94-2.06 2.06-.94-2.06-.94L8.5 2.5l-.94 2.06-2.06.94zm10 10l.94 2.06.94-2.06 2.06-.94-2.06-.94-.94-2.06-.94 2.06-2.06.94z\"/><path d=\"M17.41 7.96l-1.37-1.37c-.4-.4-.92-.59-1.43-.59-.52 0-1.04.2-1.43.59L10.3 9.45l-7.72 7.72c-.78.78-.78 2.05 0 2.83L4 21.41c.39.39.9.59 1.41.59.51 0 1.02-.2 1.41-.59l7.78-7.78 2.81-2.81c.8-.78.8-2.07 0-2.86zM5.41 20L4 18.59l7.72-7.72 1.47 1.35L5.41 20z\"/>\n",
              "  </svg>\n",
              "      </button>\n",
              "      \n",
              "  <style>\n",
              "    .colab-df-container {\n",
              "      display:flex;\n",
              "      flex-wrap:wrap;\n",
              "      gap: 12px;\n",
              "    }\n",
              "\n",
              "    .colab-df-convert {\n",
              "      background-color: #E8F0FE;\n",
              "      border: none;\n",
              "      border-radius: 50%;\n",
              "      cursor: pointer;\n",
              "      display: none;\n",
              "      fill: #1967D2;\n",
              "      height: 32px;\n",
              "      padding: 0 0 0 0;\n",
              "      width: 32px;\n",
              "    }\n",
              "\n",
              "    .colab-df-convert:hover {\n",
              "      background-color: #E2EBFA;\n",
              "      box-shadow: 0px 1px 2px rgba(60, 64, 67, 0.3), 0px 1px 3px 1px rgba(60, 64, 67, 0.15);\n",
              "      fill: #174EA6;\n",
              "    }\n",
              "\n",
              "    [theme=dark] .colab-df-convert {\n",
              "      background-color: #3B4455;\n",
              "      fill: #D2E3FC;\n",
              "    }\n",
              "\n",
              "    [theme=dark] .colab-df-convert:hover {\n",
              "      background-color: #434B5C;\n",
              "      box-shadow: 0px 1px 3px 1px rgba(0, 0, 0, 0.15);\n",
              "      filter: drop-shadow(0px 1px 2px rgba(0, 0, 0, 0.3));\n",
              "      fill: #FFFFFF;\n",
              "    }\n",
              "  </style>\n",
              "\n",
              "      <script>\n",
              "        const buttonEl =\n",
              "          document.querySelector('#df-1d27c155-decc-4b98-b34d-a343331cae37 button.colab-df-convert');\n",
              "        buttonEl.style.display =\n",
              "          google.colab.kernel.accessAllowed ? 'block' : 'none';\n",
              "\n",
              "        async function convertToInteractive(key) {\n",
              "          const element = document.querySelector('#df-1d27c155-decc-4b98-b34d-a343331cae37');\n",
              "          const dataTable =\n",
              "            await google.colab.kernel.invokeFunction('convertToInteractive',\n",
              "                                                     [key], {});\n",
              "          if (!dataTable) return;\n",
              "\n",
              "          const docLinkHtml = 'Like what you see? Visit the ' +\n",
              "            '<a target=\"_blank\" href=https://colab.research.google.com/notebooks/data_table.ipynb>data table notebook</a>'\n",
              "            + ' to learn more about interactive tables.';\n",
              "          element.innerHTML = '';\n",
              "          dataTable['output_type'] = 'display_data';\n",
              "          await google.colab.output.renderOutput(dataTable, element);\n",
              "          const docLink = document.createElement('div');\n",
              "          docLink.innerHTML = docLinkHtml;\n",
              "          element.appendChild(docLink);\n",
              "        }\n",
              "      </script>\n",
              "    </div>\n",
              "  </div>\n",
              "  "
            ],
            "text/plain": [
              "                                              Headline  \\\n",
              "377  Supporting Democratic Transition through Fair ...   \n",
              "374  Human Rights Watch: Libya 'incapable' of holdi...   \n",
              "360  Former TV repairman Naker announces his candid...   \n",
              "363  Libyans to hold national elections in December...   \n",
              "381           Post-war reconstruction plans for Libya?   \n",
              "365  Libyans agree preliminary plan for elections: ...   \n",
              "385  UN-led talks elect Libyan transitional governm...   \n",
              "368  Moin Kikhia Announces Candidacy for Libya’s Un...   \n",
              "390  Libya Security Chief Suspended in Escalating P...   \n",
              "376  Mayors call for elections by February 2021, ex...   \n",
              "369  Libyan government exposes Haftar's financial c...   \n",
              "\n",
              "                                              Abstract  \\\n",
              "377  Inclusive elections are one of the most basic ...   \n",
              "374  Libya is not ready to hold free and fair elect...   \n",
              "360  The Leader of the 'Summit Party', Abdullah Nak...   \n",
              "363  bodies and groups from across Libya's politica...   \n",
              "381  An assessment trip is planned within two weeks...   \n",
              "365  Libyans agreed in UN-led talks on Wednesday a ...   \n",
              "385  The EU hailed a ‘milestone’ as Libya embarked ...   \n",
              "368  Moin Kikhia, the Founder of the Libyan Democra...   \n",
              "390  Libya’s presidential council suspended its int...   \n",
              "376  Twenty-nine elected mayors from cities and reg...   \n",
              "369  Documents show illegal seizure of state land a...   \n",
              "\n",
              "                                            First Part  \\\n",
              "377  HNEC, in partnership with the United Nations S...   \n",
              "374  The country's rival authorities are planning t...   \n",
              "360  Regarding methods of communication with his Su...   \n",
              "363  \"It's a very important date for Libyans,\" she ...   \n",
              "381  \"Separately, a meeting between Libyan business...   \n",
              "365  The talks in Tunisia aim to create a framework...   \n",
              "385  In a potential turning point accord widely wel...   \n",
              "368  “I have submitted my candidacy for the role of...   \n",
              "390  The internationally-recognized government said...   \n",
              "376  They also accused the current political elite ...   \n",
              "369  The Libyan government on Monday published two ...   \n",
              "\n",
              "                                                  Body   Event Category  \\\n",
              "377                                                NaN  politicalEvents   \n",
              "374                                                NaN  politicalEvents   \n",
              "360                                                NaN  politicalEvents   \n",
              "363  The announcement marked the first concrete dec...  politicalEvents   \n",
              "381                                                NaN  politicalEvents   \n",
              "365  The UN selected the 75 invitees to the politic...  politicalEvents   \n",
              "385                                                NaN  politicalEvents   \n",
              "368                                                NaN  politicalEvents   \n",
              "390                                                NaN  politicalEvents   \n",
              "376                                                NaN  politicalEvents   \n",
              "369                                                NaN  politicalEvents   \n",
              "\n",
              "     1st Level Sub Category 2nd Level Sub Category 3rd Level Sub Category  \\\n",
              "377                       2                    NaN                    NaN   \n",
              "374                       1                    NaN                    NaN   \n",
              "360                       0                    NaN                    NaN   \n",
              "363                       0                    NaN                    NaN   \n",
              "381                       2                    NaN                    NaN   \n",
              "365                       0                    NaN                    NaN   \n",
              "385                       3                    NaN                    NaN   \n",
              "368                       0                    NaN                    NaN   \n",
              "390                       3                    NaN                    NaN   \n",
              "376                       0                    NaN                    NaN   \n",
              "369                       1                    NaN                    NaN   \n",
              "\n",
              "                                                 Input  \n",
              "377  Supporting Democratic Transition through Fair ...  \n",
              "374  Human Rights Watch: Libya 'incapable' of holdi...  \n",
              "360  Former TV repairman Naker announces his candid...  \n",
              "363  Libyans to hold national elections in December...  \n",
              "381  Post-war reconstruction plans for Libya? An as...  \n",
              "365  Libyans agree preliminary plan for elections: ...  \n",
              "385  UN-led talks elect Libyan transitional governm...  \n",
              "368  Moin Kikhia Announces Candidacy for Libya’s Un...  \n",
              "390  Libya Security Chief Suspended in Escalating P...  \n",
              "376  Mayors call for elections by February 2021, ex...  \n",
              "369  Libyan government exposes Haftar's financial c...  "
            ]
          },
          "execution_count": 38,
          "metadata": {},
          "output_type": "execute_result"
        }
      ],
      "source": [
        "df2_test"
      ]
    },
    {
      "cell_type": "code",
      "execution_count": 39,
      "metadata": {
        "id": "5VKi1fuLhyAc"
      },
      "outputs": [],
      "source": [
        "from tensorflow.keras.utils import to_categorical"
      ]
    },
    {
      "cell_type": "code",
      "execution_count": 40,
      "metadata": {
        "id": "xLfwoR0shyLF"
      },
      "outputs": [],
      "source": [
        "y_train = to_categorical(df2_train[\"1st Level Sub Category\"])\n",
        "y_test = to_categorical(df2_test[\"1st Level Sub Category\"])"
      ]
    },
    {
      "cell_type": "markdown",
      "metadata": {
        "id": "rL0kRe4BER_e"
      },
      "source": [
        "#Loading Model and Tokenizer from the transformers package "
      ]
    },
    {
      "cell_type": "code",
      "execution_count": 41,
      "metadata": {
        "colab": {
          "base_uri": "https://localhost:8080/"
        },
        "id": "eYkYCRGMhyOA",
        "outputId": "590222a8-5593-49aa-e694-0ca8ac84ffc8"
      },
      "outputs": [
        {
          "name": "stderr",
          "output_type": "stream",
          "text": [
            "Some layers from the model checkpoint at bert-base-cased were not used when initializing TFBertModel: ['nsp___cls', 'mlm___cls']\n",
            "- This IS expected if you are initializing TFBertModel from the checkpoint of a model trained on another task or with another architecture (e.g. initializing a BertForSequenceClassification model from a BertForPreTraining model).\n",
            "- This IS NOT expected if you are initializing TFBertModel from the checkpoint of a model that you expect to be exactly identical (initializing a BertForSequenceClassification model from a BertForSequenceClassification model).\n",
            "All the layers of TFBertModel were initialized from the model checkpoint at bert-base-cased.\n",
            "If your task is similar to the task the model of the checkpoint was trained on, you can already use TFBertModel for predictions without further training.\n"
          ]
        }
      ],
      "source": [
        "from transformers import AutoTokenizer,TFBertModel\n",
        "tokenizer = AutoTokenizer.from_pretrained(\"bert-base-cased\")\n",
        "bert = TFBertModel.from_pretrained(\"bert-base-cased\")"
      ]
    },
    {
      "cell_type": "markdown",
      "metadata": {
        "id": "dDHtD09VEii2"
      },
      "source": [
        "#Input Data Modeling\n",
        "Before training, we need to convert the input textual data into BERT’s input data format using a tokenizer.\n",
        "Tokenizer takes all the necessary parameters and returns tensor in the same format Bert accepts.\n",
        "\n",
        "return_token_type_ids = False: token_type_ids is not necessary for our training in this case.\n",
        "\n",
        "return_attention_mask = True we want to include attention_mask in our input.\n",
        "\n",
        "return_tensors=’tf’: we want our input tensor for the TensorFlow model.\n",
        "\n",
        "max_length=512:\n",
        "\n",
        "add_special_tokens=True, CLS, SEP token will be added in the tokenization.\n",
        "\n",
        "the tokenizer will return a dictionary (x_train) containing ‘Input_ids’, ‘attention_mask’ as key for their respective\n",
        "data."
      ]
    },
    {
      "cell_type": "code",
      "execution_count": 42,
      "metadata": {
        "id": "vHvUNyf6hyRO"
      },
      "outputs": [],
      "source": [
        "# Tokenize the input (takes some time) \n",
        "# here tokenizer using from bert-base-cased\n",
        "x_train = tokenizer(\n",
        "    text=df2_train.Input.tolist(),\n",
        "    add_special_tokens=True,\n",
        "    max_length=512,\n",
        "    truncation=True,\n",
        "    padding=True, \n",
        "    return_tensors='tf',\n",
        "    return_token_type_ids = False,\n",
        "    return_attention_mask = True,\n",
        "    verbose = True)\n",
        "x_test = tokenizer(\n",
        "    text=df2_test.Input.tolist(),\n",
        "    add_special_tokens=True,\n",
        "    max_length=512,\n",
        "    truncation=True,\n",
        "    padding=True, \n",
        "    return_tensors='tf',\n",
        "    return_token_type_ids = False,\n",
        "    return_attention_mask = True,\n",
        "    verbose = True)"
      ]
    },
    {
      "cell_type": "code",
      "execution_count": 43,
      "metadata": {
        "id": "_h6vghkyhyUV"
      },
      "outputs": [],
      "source": [
        "input_ids = x_train[\"input_ids\"]\n",
        "attention_mask = x_train['attention_mask']"
      ]
    },
    {
      "cell_type": "markdown",
      "metadata": {
        "id": "oKhMOX5ZGdG-"
      },
      "source": [
        "#Model Building\n",
        "Bert layers accept three input arrays, input_ids, attention_mask, token_type_ids\n",
        "\n",
        "input_ids means our input words encoding, then attention mask,\n",
        "\n",
        "token_type_ids is necessary for the question-answering model; in this case, we will not pass token_type_ids.\n",
        "\n",
        "For the Bert layer, we need two input layers, in this case, input_ids, attention_mask.\n",
        "\n",
        "Embeddings contain hidden states of the Bert layer.\n",
        "using\n",
        "\n",
        "GlobalMaxPooling1D then dense layer to build CNN layers using hidden states of Bert. \n",
        "These CNN layers will yield our output.\n",
        "\n",
        "bert[0] is the last hidden state, bert[1] is the\n",
        "pooler_output, for building CNN layers on top of the BERT layer, Bert’s hidden forms are used."
      ]
    },
    {
      "cell_type": "code",
      "execution_count": 44,
      "metadata": {
        "id": "BwSRniE5i63j"
      },
      "outputs": [],
      "source": [
        "import tensorflow as tf\n",
        "from tensorflow.keras.optimizers import Adam\n",
        "from tensorflow.keras.callbacks import EarlyStopping\n",
        "from tensorflow.keras.initializers import TruncatedNormal\n",
        "from tensorflow.keras.losses import CategoricalCrossentropy\n",
        "from tensorflow.keras.metrics import CategoricalAccuracy\n",
        "from tensorflow.keras.utils import to_categorical\n",
        "from tensorflow.keras.layers import Input, Dense"
      ]
    },
    {
      "cell_type": "code",
      "execution_count": 45,
      "metadata": {
        "id": "3RQknYdCi66q"
      },
      "outputs": [],
      "source": [
        "max_len = 512\n",
        "input_ids = Input(shape=(max_len,), dtype=tf.int32, name=\"input_ids\")\n",
        "input_mask = Input(shape=(max_len,), dtype=tf.int32, name=\"attention_mask\")\n",
        "embeddings = bert(input_ids,attention_mask = input_mask)[0] \n",
        "out = tf.keras.layers.GlobalMaxPool1D()(embeddings)\n",
        "out = Dense(128, activation='relu')(out)\n",
        "out = tf.keras.layers.Dropout(0.1)(out)\n",
        "out = Dense(32,activation = 'relu')(out)\n",
        "y = Dense(4,activation = 'softmax')(out)\n",
        "model = tf.keras.Model(inputs=[input_ids, input_mask], outputs=y)\n",
        "model.layers[2].trainable = True"
      ]
    },
    {
      "cell_type": "markdown",
      "metadata": {
        "id": "c2Py4wvSHthe"
      },
      "source": [
        "#Defining learning parameters and compiling the model.\n",
        "learning_rate = 5e-05 the learning rate for the model will be significantly lower.\n",
        "\n",
        "Loss = CategoricalCrossentropy since we are passing the categorical data as the target.\n",
        "\n",
        "Balanced accuracy will take care of our average accuracy for all the classes."
      ]
    },
    {
      "cell_type": "code",
      "execution_count": 46,
      "metadata": {
        "id": "vWnPGgiwi7A2"
      },
      "outputs": [],
      "source": [
        "optimizer = Adam(\n",
        "    learning_rate=5e-05, # this learning rate is for bert model , taken from huggingface website \n",
        "    epsilon=1e-08,\n",
        "    decay=0.01,\n",
        "    clipnorm=1.0)\n",
        "# Set loss and metrics\n",
        "loss =CategoricalCrossentropy(from_logits = True)\n",
        "metric = CategoricalAccuracy('balanced_accuracy'),\n",
        "# Compile the model\n",
        "model.compile(\n",
        "    optimizer = optimizer,\n",
        "    loss = loss, \n",
        "    metrics = metric)"
      ]
    },
    {
      "cell_type": "code",
      "execution_count": 47,
      "metadata": {
        "colab": {
          "base_uri": "https://localhost:8080/"
        },
        "id": "rk7GpjUKy_qx",
        "outputId": "d993cbb5-2bd7-47ff-a5a8-f921889f628f"
      },
      "outputs": [
        {
          "data": {
            "text/plain": [
              "(22, 4)"
            ]
          },
          "execution_count": 47,
          "metadata": {},
          "output_type": "execute_result"
        }
      ],
      "source": [
        "y_train.shape"
      ]
    },
    {
      "cell_type": "markdown",
      "metadata": {
        "id": "6bRLpbLZIReR"
      },
      "source": [
        "#Model Training\n",
        "with x_train, y_train we can now train the model.\n",
        "model.fit returns a history object which keeps all the training history.\n",
        "\n",
        "x_test became a dictionary containing ‘input_ids’, ‘attention_mask‘ after pre-processing. \n",
        "We are passing input_ids and attention_mask for the training.\n",
        "\n",
        "In the validation data, we are passing the test data."
      ]
    },
    {
      "cell_type": "code",
      "execution_count": 66,
      "metadata": {
        "colab": {
          "base_uri": "https://localhost:8080/"
        },
        "id": "EDyE4USji7Dh",
        "outputId": "4a8f2828-6586-4b11-930d-1cdf48c55527"
      },
      "outputs": [
        {
          "name": "stdout",
          "output_type": "stream",
          "text": [
            "11/11 [==============================] - 169s 15s/step - loss: 0.2740 - balanced_accuracy: 0.9091 - val_loss: 1.2571 - val_balanced_accuracy: 0.4545\n"
          ]
        }
      ],
      "source": [
        "train_history = model.fit(\n",
        "    x ={'input_ids':x_train['input_ids'],'attention_mask':x_train['attention_mask']} ,\n",
        "    y = y_train,\n",
        "    validation_data = (\n",
        "    {'input_ids':x_test['input_ids'],'attention_mask':x_test['attention_mask']}, y_test\n",
        "    ),\n",
        "  epochs=1,\n",
        "    batch_size=2\n",
        ")"
      ]
    },
    {
      "cell_type": "markdown",
      "metadata": {
        "id": "S9510ZMMJFH3"
      },
      "source": [
        "#Model Evaluation"
      ]
    },
    {
      "cell_type": "code",
      "execution_count": 67,
      "metadata": {
        "colab": {
          "base_uri": "https://localhost:8080/"
        },
        "id": "3oBdDL53nzBB",
        "outputId": "4801b119-da3a-4097-9dfa-28a01dd58705"
      },
      "outputs": [
        {
          "name": "stdout",
          "output_type": "stream",
          "text": [
            "1/1 [==============================] - 21s 21s/step\n"
          ]
        },
        {
          "data": {
            "text/plain": [
              "array([0.24573366, 0.5649744 , 0.06565352, 0.1236384 ], dtype=float32)"
            ]
          },
          "execution_count": 67,
          "metadata": {},
          "output_type": "execute_result"
        }
      ],
      "source": [
        "predicted_raw = model.predict({'input_ids':x_test['input_ids'],'attention_mask':x_test['attention_mask']})\n",
        "predicted_raw[0]"
      ]
    },
    {
      "cell_type": "code",
      "execution_count": 68,
      "metadata": {
        "id": "VktCZoGYn5Fa"
      },
      "outputs": [],
      "source": [
        "y_predicted = np.argmax(predicted_raw, axis = 1)\n",
        "y_true = df2_test[\"1st Level Sub Category\"]"
      ]
    },
    {
      "cell_type": "markdown",
      "metadata": {
        "id": "Es2kWmUkJbVL"
      },
      "source": [
        "#Classification Report"
      ]
    },
    {
      "cell_type": "code",
      "execution_count": 69,
      "metadata": {
        "colab": {
          "base_uri": "https://localhost:8080/"
        },
        "id": "4OG2uhUCn_or",
        "outputId": "b1025d5d-7bf0-4348-9804-035a34ee3ce6"
      },
      "outputs": [
        {
          "name": "stdout",
          "output_type": "stream",
          "text": [
            "              precision    recall  f1-score   support\n",
            "\n",
            "           0       1.00      0.60      0.75         5\n",
            "           1       0.00      0.00      0.00         2\n",
            "           2       0.00      0.00      0.00         2\n",
            "           3       0.29      1.00      0.44         2\n",
            "\n",
            "    accuracy                           0.45        11\n",
            "   macro avg       0.32      0.40      0.30        11\n",
            "weighted avg       0.51      0.45      0.42        11\n",
            "\n"
          ]
        }
      ],
      "source": [
        "from sklearn.metrics import classification_report\n",
        "print(classification_report(y_true, y_predicted))"
      ]
    },
    {
      "attachments": {},
      "cell_type": "markdown",
      "metadata": {
        "id": "tw2sKdbUJyxf"
      },
      "source": [
        "# Prediction Pipeline\n",
        "Converting indexes back to the labels:\n"
      ]
    },
    {
      "cell_type": "code",
      "execution_count": 91,
      "metadata": {
        "colab": {
          "base_uri": "https://localhost:8080/"
        },
        "id": "MbzbkJUbn9RM",
        "outputId": "17af1add-9076-4c31-e9d0-2ed4d2da8a46"
      },
      "outputs": [
        {
          "name": "stdout",
          "output_type": "stream",
          "text": [
            "input the textThis joint project is a testament to the shared commitment of the European Union, UNODC and UNICRI to support Libya in building long-term sustainable national capacities to counter corruption and money laundering. This new intervention supplements and expands UNODC\\'s long-standing partnership with Libyan Authorities in countering trafficking in persons and smuggling of migrants, related financial crimes and terrorism financing as well as in supporting prison reform.\" stated Ms. Cristina Albertin, UNODC Regional Representative for the Middle East and North Africa, while welcoming the project. Ms. Antonia Marie De Meo, UNICRI\\'s Director, highlighted that \"Libyans have suffered from corruption for too long. They deserve accountability and transparency from all public officials. The Libyan people should also benefit from the recovery of stolen assets which - when recovered - can be directed to key public sectors such as health care and education.\" UNICRI has already assisted the Govern\n",
            "1/1 [==============================] - 2s 2s/step\n",
            "election 35.214245\n",
            "badGovernance 14.846091\n",
            "goodGovernance 37.07262\n",
            "governmentChange 12.867043\n"
          ]
        }
      ],
      "source": [
        "texts = input(str('input the text'))\n",
        "x_val = tokenizer(\n",
        "    text=texts,\n",
        "    add_special_tokens=True,\n",
        "    max_length=512,\n",
        "    truncation=True,\n",
        "    padding='max_length', \n",
        "    return_tensors='tf',\n",
        "    return_token_type_ids = False,\n",
        "    return_attention_mask = True,\n",
        "    verbose = True) \n",
        "validation = model.predict({'input_ids':x_val['input_ids'],'attention_mask':x_val['attention_mask']})*100\n",
        "for key , value in zip(encoded_dict.keys(),validation[0]):\n",
        "    print(key,value)"
      ]
    },
    {
      "attachments": {},
      "cell_type": "markdown",
      "metadata": {},
      "source": [
        "#Actual class is `governmentChange`\n",
        "#Predicted class is `governmentChange`"
      ]
    },
    {
      "cell_type": "code",
      "execution_count": 90,
      "metadata": {
        "colab": {
          "base_uri": "https://localhost:8080/",
          "height": 394
        },
        "id": "9NgkhhWUi7QN",
        "outputId": "491987f7-766a-4d47-ab95-9b74fbe9d5c6"
      },
      "outputs": [
        {
          "data": {
            "text/html": [
              "\n",
              "  <div id=\"df-4d02ac63-617c-4edb-a144-ca1723a53349\">\n",
              "    <div class=\"colab-df-container\">\n",
              "      <div>\n",
              "<style scoped>\n",
              "    .dataframe tbody tr th:only-of-type {\n",
              "        vertical-align: middle;\n",
              "    }\n",
              "\n",
              "    .dataframe tbody tr th {\n",
              "        vertical-align: top;\n",
              "    }\n",
              "\n",
              "    .dataframe thead th {\n",
              "        text-align: right;\n",
              "    }\n",
              "</style>\n",
              "<table border=\"1\" class=\"dataframe\">\n",
              "  <thead>\n",
              "    <tr style=\"text-align: right;\">\n",
              "      <th></th>\n",
              "      <th>First Part</th>\n",
              "      <th>Body</th>\n",
              "      <th>Event Category</th>\n",
              "      <th>1st Level Sub Category</th>\n",
              "    </tr>\n",
              "  </thead>\n",
              "  <tbody>\n",
              "    <tr>\n",
              "      <th>382</th>\n",
              "      <td>Authorities will also be trained in techniques...</td>\n",
              "      <td>\"This joint project is a testament to the shar...</td>\n",
              "      <td>politicalEvents</td>\n",
              "      <td>goodGovernance</td>\n",
              "    </tr>\n",
              "    <tr>\n",
              "      <th>383</th>\n",
              "      <td>When the Supreme Election Commission initially...</td>\n",
              "      <td>NaN</td>\n",
              "      <td>politicalEvents</td>\n",
              "      <td>election</td>\n",
              "    </tr>\n",
              "    <tr>\n",
              "      <th>384</th>\n",
              "      <td>Speaking to reporters during a press conferenc...</td>\n",
              "      <td>NaN</td>\n",
              "      <td>politicalEvents</td>\n",
              "      <td>election</td>\n",
              "    </tr>\n",
              "    <tr>\n",
              "      <th>385</th>\n",
              "      <td>In a potential turning point accord widely wel...</td>\n",
              "      <td>NaN</td>\n",
              "      <td>politicalEvents</td>\n",
              "      <td>governmentChange</td>\n",
              "    </tr>\n",
              "    <tr>\n",
              "      <th>386</th>\n",
              "      <td>UN sponsored talks produced a new interim gove...</td>\n",
              "      <td>NaN</td>\n",
              "      <td>politicalEvents</td>\n",
              "      <td>governmentChange</td>\n",
              "    </tr>\n",
              "    <tr>\n",
              "      <th>387</th>\n",
              "      <td>Ever since the collapse of the old regime and ...</td>\n",
              "      <td>NaN</td>\n",
              "      <td>politicalEvents</td>\n",
              "      <td>governmentChange</td>\n",
              "    </tr>\n",
              "    <tr>\n",
              "      <th>388</th>\n",
              "      <td>According to the Prime Minister’s press office...</td>\n",
              "      <td>NaN</td>\n",
              "      <td>politicalEvents</td>\n",
              "      <td>governmentChange</td>\n",
              "    </tr>\n",
              "    <tr>\n",
              "      <th>389</th>\n",
              "      <td>The struggle for power within the Libya Presid...</td>\n",
              "      <td>NaN</td>\n",
              "      <td>politicalEvents</td>\n",
              "      <td>governmentChange</td>\n",
              "    </tr>\n",
              "    <tr>\n",
              "      <th>390</th>\n",
              "      <td>The internationally-recognized government said...</td>\n",
              "      <td>NaN</td>\n",
              "      <td>politicalEvents</td>\n",
              "      <td>governmentChange</td>\n",
              "    </tr>\n",
              "    <tr>\n",
              "      <th>391</th>\n",
              "      <td>He did not spell out in his brief televised sp...</td>\n",
              "      <td>Haftar is supported by the United Arab Emirate...</td>\n",
              "      <td>politicalEvents</td>\n",
              "      <td>governmentChange</td>\n",
              "    </tr>\n",
              "    <tr>\n",
              "      <th>392</th>\n",
              "      <td>Libya has been engulfed in chaos since a NATO-...</td>\n",
              "      <td>Analysts describe the new government team as s...</td>\n",
              "      <td>politicalEvents</td>\n",
              "      <td>governmentChange</td>\n",
              "    </tr>\n",
              "  </tbody>\n",
              "</table>\n",
              "</div>\n",
              "      <button class=\"colab-df-convert\" onclick=\"convertToInteractive('df-4d02ac63-617c-4edb-a144-ca1723a53349')\"\n",
              "              title=\"Convert this dataframe to an interactive table.\"\n",
              "              style=\"display:none;\">\n",
              "        \n",
              "  <svg xmlns=\"http://www.w3.org/2000/svg\" height=\"24px\"viewBox=\"0 0 24 24\"\n",
              "       width=\"24px\">\n",
              "    <path d=\"M0 0h24v24H0V0z\" fill=\"none\"/>\n",
              "    <path d=\"M18.56 5.44l.94 2.06.94-2.06 2.06-.94-2.06-.94-.94-2.06-.94 2.06-2.06.94zm-11 1L8.5 8.5l.94-2.06 2.06-.94-2.06-.94L8.5 2.5l-.94 2.06-2.06.94zm10 10l.94 2.06.94-2.06 2.06-.94-2.06-.94-.94-2.06-.94 2.06-2.06.94z\"/><path d=\"M17.41 7.96l-1.37-1.37c-.4-.4-.92-.59-1.43-.59-.52 0-1.04.2-1.43.59L10.3 9.45l-7.72 7.72c-.78.78-.78 2.05 0 2.83L4 21.41c.39.39.9.59 1.41.59.51 0 1.02-.2 1.41-.59l7.78-7.78 2.81-2.81c.8-.78.8-2.07 0-2.86zM5.41 20L4 18.59l7.72-7.72 1.47 1.35L5.41 20z\"/>\n",
              "  </svg>\n",
              "      </button>\n",
              "      \n",
              "  <style>\n",
              "    .colab-df-container {\n",
              "      display:flex;\n",
              "      flex-wrap:wrap;\n",
              "      gap: 12px;\n",
              "    }\n",
              "\n",
              "    .colab-df-convert {\n",
              "      background-color: #E8F0FE;\n",
              "      border: none;\n",
              "      border-radius: 50%;\n",
              "      cursor: pointer;\n",
              "      display: none;\n",
              "      fill: #1967D2;\n",
              "      height: 32px;\n",
              "      padding: 0 0 0 0;\n",
              "      width: 32px;\n",
              "    }\n",
              "\n",
              "    .colab-df-convert:hover {\n",
              "      background-color: #E2EBFA;\n",
              "      box-shadow: 0px 1px 2px rgba(60, 64, 67, 0.3), 0px 1px 3px 1px rgba(60, 64, 67, 0.15);\n",
              "      fill: #174EA6;\n",
              "    }\n",
              "\n",
              "    [theme=dark] .colab-df-convert {\n",
              "      background-color: #3B4455;\n",
              "      fill: #D2E3FC;\n",
              "    }\n",
              "\n",
              "    [theme=dark] .colab-df-convert:hover {\n",
              "      background-color: #434B5C;\n",
              "      box-shadow: 0px 1px 3px 1px rgba(0, 0, 0, 0.15);\n",
              "      filter: drop-shadow(0px 1px 2px rgba(0, 0, 0, 0.3));\n",
              "      fill: #FFFFFF;\n",
              "    }\n",
              "  </style>\n",
              "\n",
              "      <script>\n",
              "        const buttonEl =\n",
              "          document.querySelector('#df-4d02ac63-617c-4edb-a144-ca1723a53349 button.colab-df-convert');\n",
              "        buttonEl.style.display =\n",
              "          google.colab.kernel.accessAllowed ? 'block' : 'none';\n",
              "\n",
              "        async function convertToInteractive(key) {\n",
              "          const element = document.querySelector('#df-4d02ac63-617c-4edb-a144-ca1723a53349');\n",
              "          const dataTable =\n",
              "            await google.colab.kernel.invokeFunction('convertToInteractive',\n",
              "                                                     [key], {});\n",
              "          if (!dataTable) return;\n",
              "\n",
              "          const docLinkHtml = 'Like what you see? Visit the ' +\n",
              "            '<a target=\"_blank\" href=https://colab.research.google.com/notebooks/data_table.ipynb>data table notebook</a>'\n",
              "            + ' to learn more about interactive tables.';\n",
              "          element.innerHTML = '';\n",
              "          dataTable['output_type'] = 'display_data';\n",
              "          await google.colab.output.renderOutput(dataTable, element);\n",
              "          const docLink = document.createElement('div');\n",
              "          docLink.innerHTML = docLinkHtml;\n",
              "          element.appendChild(docLink);\n",
              "        }\n",
              "      </script>\n",
              "    </div>\n",
              "  </div>\n",
              "  "
            ],
            "text/plain": [
              "                                            First Part  \\\n",
              "382  Authorities will also be trained in techniques...   \n",
              "383  When the Supreme Election Commission initially...   \n",
              "384  Speaking to reporters during a press conferenc...   \n",
              "385  In a potential turning point accord widely wel...   \n",
              "386  UN sponsored talks produced a new interim gove...   \n",
              "387  Ever since the collapse of the old regime and ...   \n",
              "388  According to the Prime Minister’s press office...   \n",
              "389  The struggle for power within the Libya Presid...   \n",
              "390  The internationally-recognized government said...   \n",
              "391  He did not spell out in his brief televised sp...   \n",
              "392  Libya has been engulfed in chaos since a NATO-...   \n",
              "\n",
              "                                                  Body   Event Category  \\\n",
              "382  \"This joint project is a testament to the shar...  politicalEvents   \n",
              "383                                                NaN  politicalEvents   \n",
              "384                                                NaN  politicalEvents   \n",
              "385                                                NaN  politicalEvents   \n",
              "386                                                NaN  politicalEvents   \n",
              "387                                                NaN  politicalEvents   \n",
              "388                                                NaN  politicalEvents   \n",
              "389                                                NaN  politicalEvents   \n",
              "390                                                NaN  politicalEvents   \n",
              "391  Haftar is supported by the United Arab Emirate...  politicalEvents   \n",
              "392  Analysts describe the new government team as s...  politicalEvents   \n",
              "\n",
              "    1st Level Sub Category  \n",
              "382         goodGovernance  \n",
              "383               election  \n",
              "384               election  \n",
              "385       governmentChange  \n",
              "386       governmentChange  \n",
              "387       governmentChange  \n",
              "388       governmentChange  \n",
              "389       governmentChange  \n",
              "390       governmentChange  \n",
              "391       governmentChange  \n",
              "392       governmentChange  "
            ]
          },
          "execution_count": 90,
          "metadata": {},
          "output_type": "execute_result"
        }
      ],
      "source": [
        "df[df[\"Event Category\"] == \"politicalEvents\"][[\"First Part\",\"Body\",\"Event Category\",\"1st Level Sub Category\"]].tail(11)"
      ]
    },
    {
      "cell_type": "code",
      "execution_count": 88,
      "metadata": {
        "colab": {
          "base_uri": "https://localhost:8080/",
          "height": 128
        },
        "id": "JZb5Dp14CgLY",
        "outputId": "4f4d62ce-8816-40c3-8273-c7fbf7ea8a03"
      },
      "outputs": [
        {
          "data": {
            "application/vnd.google.colaboratory.intrinsic+json": {
              "type": "string"
            },
            "text/plain": [
              "'\"This joint project is a testament to the shared commitment of the European Union, UNODC and UNICRI to support Libya in building long-term sustainable national capacities to counter corruption and money laundering. This new intervention supplements and expands UNODC\\'s long-standing partnership with Libyan Authorities in countering trafficking in persons and smuggling of migrants, related financial crimes and terrorism financing as well as in supporting prison reform.\" stated Ms. Cristina Albertin, UNODC Regional Representative for the Middle East and North Africa, while welcoming the project. Ms. Antonia Marie De Meo, UNICRI\\'s Director, highlighted that \"Libyans have suffered from corruption for too long. They deserve accountability and transparency from all public officials. The Libyan people should also benefit from the recovery of stolen assets which - when recovered - can be directed to key public sectors such as health care and education.\" UNICRI has already assisted the Government of Libya in tracing assets valued at hundreds of millions of US dollars, the statement added. The press statement also said that through this new project, the European Union, in collaboration with UNODC and UNICRI, will strengthen the criminal justice system in Libya to investigate and prosecute corruption and related financial crimes. The main project beneficiaries include the National Anti-Corruption Commission (NAAC), the Administrative Control Authority (ACA), the Audit Bureau, the Central Bank of Libya (CBL), the Financial Information Unit, the Ministry of Interior, the Office of the Attorney General, the Ministry of Justice, the National Economic Development Board (NEDB) and the Libyan Asset Recovery and Management Office. Project experts will also work closely with civil society organizations and universities to enhance their capacity to prevent corruption and promote a culture of integrity and transparency in Libyan society, the statement concluded.'"
            ]
          },
          "execution_count": 88,
          "metadata": {},
          "output_type": "execute_result"
        }
      ],
      "source": [
        "df[df[\"Event Category\"] == \"politicalEvents\"][[\"First Part\",\"Body\",\"Event Category\",\"1st Level Sub Category\"]][\"Body\"].loc[382]"
      ]
    }
  ],
  "metadata": {
    "accelerator": "TPU",
    "colab": {
      "collapsed_sections": [
        "yB5pzITOeltL",
        "wVwOkzBCjmMX",
        "VCuOU85Ldns6",
        "qrDXF1ibl76v",
        "LjsWW1VAmPxK"
      ],
      "provenance": []
    },
    "gpuClass": "standard",
    "kernelspec": {
      "display_name": "Python 3 (ipykernel)",
      "language": "python",
      "name": "python3"
    },
    "language_info": {
      "codemirror_mode": {
        "name": "ipython",
        "version": 3
      },
      "file_extension": ".py",
      "mimetype": "text/x-python",
      "name": "python",
      "nbconvert_exporter": "python",
      "pygments_lexer": "ipython3",
      "version": "3.7.9"
    }
  },
  "nbformat": 4,
  "nbformat_minor": 0
}
